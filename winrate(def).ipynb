{
 "cells": [
  {
   "cell_type": "code",
   "execution_count": 1,
   "id": "c6d61049",
   "metadata": {},
   "outputs": [
    {
     "name": "stdout",
     "output_type": "stream",
     "text": [
      "   Strategy A  Strategy B\n",
      "0    0.269263    0.734255\n",
      "1   -0.631297    0.703330\n",
      "2   -0.142668   -0.616330\n",
      "3    0.909489   -0.564459\n",
      "4   -0.473955   -0.201368\n",
      "5   -0.639274   -0.582814\n",
      "6    0.786265   -0.484420\n",
      "7   -0.760116   -0.227635\n",
      "8    0.004161    0.048494\n",
      "9    0.034272   -0.690538\n",
      "   Strategy A  Strategy B\n",
      "0   -0.570796    0.994946\n",
      "1    0.982965    0.810510\n",
      "2    0.037603    0.025811\n",
      "3   -0.907685    0.493337\n",
      "4    0.729768   -0.466732\n",
      "5    0.906707    0.957192\n",
      "6   -0.246578    0.487487\n",
      "7   -0.432575    0.084391\n",
      "8   -0.153370   -0.482514\n",
      "9   -0.294094    0.412653\n"
     ]
    },
    {
     "data": {
      "text/html": [
       "<div>\n",
       "<style scoped>\n",
       "    .dataframe tbody tr th:only-of-type {\n",
       "        vertical-align: middle;\n",
       "    }\n",
       "\n",
       "    .dataframe tbody tr th {\n",
       "        vertical-align: top;\n",
       "    }\n",
       "\n",
       "    .dataframe thead th {\n",
       "        text-align: right;\n",
       "    }\n",
       "</style>\n",
       "<table border=\"1\" class=\"dataframe\">\n",
       "  <thead>\n",
       "    <tr style=\"text-align: right;\">\n",
       "      <th></th>\n",
       "      <th>party</th>\n",
       "      <th>A</th>\n",
       "      <th>B</th>\n",
       "    </tr>\n",
       "  </thead>\n",
       "  <tbody>\n",
       "    <tr>\n",
       "      <th>0</th>\n",
       "      <td>1.0</td>\n",
       "      <td>0.34</td>\n",
       "      <td>0.33</td>\n",
       "    </tr>\n",
       "    <tr>\n",
       "      <th>1</th>\n",
       "      <td>2.0</td>\n",
       "      <td>0.38</td>\n",
       "      <td>0.06</td>\n",
       "    </tr>\n",
       "  </tbody>\n",
       "</table>\n",
       "</div>"
      ],
      "text/plain": [
       "   party     A     B\n",
       "0    1.0  0.34  0.33\n",
       "1    2.0  0.38  0.06"
      ]
     },
     "execution_count": 1,
     "metadata": {},
     "output_type": "execute_result"
    }
   ],
   "source": [
    "import pandas as pd\n",
    "import numpy as np\n",
    "import matplotlib.pyplot as plt\n",
    "party=pd.read_csv(\"party.csv\")\n",
    "voterA=pd.read_csv(\"voterA.csv\")\n",
    "voterB=pd.read_csv(\"voterB.csv\")\n",
    "print(voterA)\n",
    "print(voterB)\n",
    "party"
   ]
  },
  {
   "cell_type": "code",
   "execution_count": 2,
   "id": "2fa48ca8",
   "metadata": {},
   "outputs": [],
   "source": [
    "voterA=np.array(voterA)\n",
    "voterB=np.array(voterB)\n",
    "#np.sum(va[:,1])\n",
    "partyA=np.array(party)\n",
    "partyB=np.array(party)"
   ]
  },
  {
   "cell_type": "code",
   "execution_count": 8,
   "id": "339924c4",
   "metadata": {},
   "outputs": [],
   "source": [
    "def MovePeopleToIndex(party):\n",
    "    if(party[0,0]==1 and party[1,0]==2):\n",
    "        print(\"people in index !\")\n",
    "        party=np.delete(party,0,1)#np.delete(arrary,index,0:row 1:col)\n",
    "    return party"
   ]
  },
  {
   "cell_type": "code",
   "execution_count": 4,
   "id": "8ff00d37",
   "metadata": {},
   "outputs": [],
   "source": [
    "def WinratePID(va,vb,pa,pb):\n",
    "    #print(pb)\n",
    "    pr=party.shape[0]+1\n",
    "    pc=party.shape[1]\n",
    "    for row in range(pr-1):\n",
    "        for col in range(1,pc):\n",
    "            #print(\"0:\",pb)\n",
    "            #print(row,\" \",col)\n",
    "            #print(pa[row,col],\"=\",np.sum(va[:,row]),\"*\",pa[row,col])\n",
    "            pa[row,col]=np.sum(va[:,row])*pa[row,col]\n",
    "            #print(\"1:\",pb)\n",
    "            #print(pb[row,col],\"=\",np.sum(vb[:,row]),\"*\",pb[row,col])\n",
    "            #print(\"2:\",pb)\n",
    "            pb[row,col]=np.sum(vb[:,row])*pb[row,col]\n",
    "            #print(\"3:\",pb)\n",
    "    Uaza=pa[0,1]+pa[1,1]\n",
    "    Uazb=pa[0,2]+pa[1,2]\n",
    "    Ubza=pb[0,1]+pb[1,1]\n",
    "    Ubzb=pb[0,2]+pb[1,2]\n",
    "    Uza=Uaza+Ubza \n",
    "    Uzb=Ubzb+Uazb\n",
    "    va_shape=np.array(va.shape)\n",
    "    numA=va_shape[0]\n",
    "    dem=int(va_shape[1])\n",
    "    vb_shape=np.array(vb.shape)\n",
    "    numB=vb_shape[0]\n",
    "    dem=int(vb_shape[1])\n",
    "    PAWB=1/2+(Uza-Uzb)/(2*(numA+numB))\n",
    "    rAz=PAWB*Uaza+(1-PAWB)*Uazb\n",
    "    rBz=PAWB*Ubza+(1-PAWB)*Ubzb\n",
    "    #print(Uaza,Uazb,Ubza,Ubzb)\n",
    "    Gza=1/2*(numA/(numA+numB))+(numA/(2*(numA+numB)))*(Uza-Uzb)+1/2*(Uaza-Uazb)\n",
    "    return Gza"
   ]
  },
  {
   "cell_type": "code",
   "execution_count": 5,
   "id": "2ccf4a60",
   "metadata": {},
   "outputs": [],
   "source": [
    "def Winrate(va,vb,pa,pb):\n",
    "    #print(pb)\n",
    "    pr=party.shape[0]\n",
    "    pc=party.shape[1]\n",
    "    Pa=np.zeros((2,2))#make a arrary [[0,0],[0,0]]\n",
    "    Pb=np.zeros((2,2))\n",
    "    for row in range(pr):\n",
    "        for col in range(pc-1):\n",
    "            #print(\"0:\",pb)\n",
    "            #print(row,\" \",col)\n",
    "            #print(pa[row,col],\"=\",np.sum(va[:,row]),\"*\",pa[row,col])\n",
    "            Pa[row,col]=np.sum(va[:,row])*pa[row,col]\n",
    "            #print(\"1:\",pb)\n",
    "            #print(pb[row,col],\"=\",np.sum(vb[:,row]),\"*\",pb[row,col])\n",
    "            #print(\"2:\",pb)\n",
    "            Pb[row,col]=np.sum(vb[:,row])*pb[row,col]\n",
    "            #print(\"3:\",pb)\n",
    "    global Uaza,Uazb,Ubza,Ubzb,Uza,Uzb,PAWB,rAz,RBz\n",
    "    Uaza=np.sum(Pa[:,0])\n",
    "    Uazb=np.sum(Pa[:,1])\n",
    "    Ubza=np.sum(Pb[:,0])\n",
    "    Ubzb=np.sum(Pb[:,1])\n",
    "    Uza=Uaza+Ubza \n",
    "    Uzb=Ubzb+Uazb\n",
    "    va_shape=np.array(va.shape)\n",
    "    numA=va_shape[0]\n",
    "    dem=int(va_shape[1])\n",
    "    vb_shape=np.array(vb.shape)\n",
    "    numB=vb_shape[0]\n",
    "    dem=int(vb_shape[1])\n",
    "    PAWB=1/2+(Uza-Uzb)/(2*(numA+numB))\n",
    "    rAz=PAWB*Uaza+(1-PAWB)*Uazb\n",
    "    rBz=PAWB*Ubza+(1-PAWB)*Ubzb\n",
    "    #print(Uaza,Uazb,Ubza,Ubzb)\n",
    "    Gza=1/2*(numA/(numA+numB))+(numA/(2*(numA+numB)))*(Uza-Uzb)+1/2*(Uaza-Uazb)\n",
    "    return Gza"
   ]
  },
  {
   "cell_type": "code",
   "execution_count": 6,
   "id": "b4f6b28d",
   "metadata": {},
   "outputs": [
    {
     "name": "stdout",
     "output_type": "stream",
     "text": [
      "people in index !\n",
      "people in index !\n",
      "[[0.34 0.33]\n",
      " [0.38 0.06]]\n"
     ]
    }
   ],
   "source": [
    "partyA=MovePeopleToIndex(partyA)\n",
    "partyB=MovePeopleToIndex(partyB)\n",
    "print(partyA)\n"
   ]
  },
  {
   "cell_type": "code",
   "execution_count": 7,
   "id": "85faa1bd",
   "metadata": {},
   "outputs": [
    {
     "data": {
      "text/plain": [
       "0.05911109502177481"
      ]
     },
     "execution_count": 7,
     "metadata": {},
     "output_type": "execute_result"
    }
   ],
   "source": [
    "Gza=Winrate(voterA,voterB,partyA,partyB)\n",
    "Gza"
   ]
  },
  {
   "cell_type": "code",
   "execution_count": 10,
   "id": "9a9dfd33",
   "metadata": {},
   "outputs": [],
   "source": [
    "# 目標函數:y=x^2\n",
    "def func(x): return np.square(x)\n",
    "\n",
    "# 目標函數一階導數:dy/dx=2*x\n",
    "def dfunc(x): return 2 * x\n",
    "def GD(x_start, epochs, lr):    \n",
    "    \"\"\"  梯度下降法。給定起始點與目標函數的一階導函數，求在epochs次反覆運算中x的更新值\n",
    "        :param x_start: x的起始點    \n",
    "        :param df: 目標函數的一階導函數    \n",
    "        :param epochs: 反覆運算週期    \n",
    "        :param lr: 學習率    \n",
    "        :return: x在每次反覆運算後的位置（包括起始點），長度為epochs+1    \n",
    "     \"\"\"    \n",
    "    xs = np.zeros(epochs+1)    \n",
    "    za = x_start    \n",
    "    xs[0] = za    \n",
    "    for i in range(epochs):         \n",
    "        Gza = Winrate(voterA,voterB,partyA,partyB)    \n",
    "        # v表示x要改變的幅度        \n",
    "        Gza = Gza * lr        \n",
    "        za += Gza        \n",
    "        xs[i+1] = za    \n",
    "    return xs"
   ]
  },
  {
   "cell_type": "code",
   "execution_count": 9,
   "id": "487ccd19",
   "metadata": {},
   "outputs": [
    {
     "ename": "NameError",
     "evalue": "name 'df' is not defined",
     "output_type": "error",
     "traceback": [
      "\u001b[1;31m---------------------------------------------------------------------------\u001b[0m",
      "\u001b[1;31mNameError\u001b[0m                                 Traceback (most recent call last)",
      "\u001b[1;32m<ipython-input-9-5c871a7fbf07>\u001b[0m in \u001b[0;36m<module>\u001b[1;34m\u001b[0m\n\u001b[0;32m      7\u001b[0m \u001b[0mlr\u001b[0m \u001b[1;33m=\u001b[0m \u001b[1;36m0.3\u001b[0m\u001b[1;33m\u001b[0m\u001b[1;33m\u001b[0m\u001b[0m\n\u001b[0;32m      8\u001b[0m \u001b[1;31m# 梯度下降法\u001b[0m\u001b[1;33m\u001b[0m\u001b[1;33m\u001b[0m\u001b[1;33m\u001b[0m\u001b[0m\n\u001b[1;32m----> 9\u001b[1;33m \u001b[0mx\u001b[0m \u001b[1;33m=\u001b[0m \u001b[0mGD\u001b[0m\u001b[1;33m(\u001b[0m\u001b[0mx_start\u001b[0m\u001b[1;33m,\u001b[0m \u001b[0mepochs\u001b[0m\u001b[1;33m,\u001b[0m \u001b[0mlr\u001b[0m\u001b[1;33m=\u001b[0m\u001b[0mlr\u001b[0m\u001b[1;33m)\u001b[0m\u001b[1;33m\u001b[0m\u001b[1;33m\u001b[0m\u001b[0m\n\u001b[0m\u001b[0;32m     10\u001b[0m \u001b[0mprint\u001b[0m \u001b[1;33m(\u001b[0m\u001b[0mx\u001b[0m\u001b[1;33m)\u001b[0m\u001b[1;33m\u001b[0m\u001b[1;33m\u001b[0m\u001b[0m\n\u001b[0;32m     11\u001b[0m \u001b[1;31m# 輸出：[-5.     -2.     -0.8    -0.32   -0.128  -0.0512]\u001b[0m\u001b[1;33m\u001b[0m\u001b[1;33m\u001b[0m\u001b[1;33m\u001b[0m\u001b[0m\n",
      "\u001b[1;32m<ipython-input-8-1c2095e8c104>\u001b[0m in \u001b[0;36mGD\u001b[1;34m(x_start, epochs, lr)\u001b[0m\n\u001b[0;32m     11\u001b[0m     \u001b[0mxs\u001b[0m\u001b[1;33m[\u001b[0m\u001b[1;36m0\u001b[0m\u001b[1;33m]\u001b[0m \u001b[1;33m=\u001b[0m \u001b[0mx\u001b[0m\u001b[1;33m\u001b[0m\u001b[1;33m\u001b[0m\u001b[0m\n\u001b[0;32m     12\u001b[0m     \u001b[1;32mfor\u001b[0m \u001b[0mi\u001b[0m \u001b[1;32min\u001b[0m \u001b[0mrange\u001b[0m\u001b[1;33m(\u001b[0m\u001b[0mepochs\u001b[0m\u001b[1;33m)\u001b[0m\u001b[1;33m:\u001b[0m\u001b[1;33m\u001b[0m\u001b[1;33m\u001b[0m\u001b[0m\n\u001b[1;32m---> 13\u001b[1;33m         \u001b[0mdx\u001b[0m \u001b[1;33m=\u001b[0m \u001b[0mdf\u001b[0m\u001b[1;33m(\u001b[0m\u001b[0mx\u001b[0m\u001b[1;33m)\u001b[0m\u001b[1;33m\u001b[0m\u001b[1;33m\u001b[0m\u001b[0m\n\u001b[0m\u001b[0;32m     14\u001b[0m         \u001b[1;31m# v表示x要改變的幅度\u001b[0m\u001b[1;33m\u001b[0m\u001b[1;33m\u001b[0m\u001b[1;33m\u001b[0m\u001b[0m\n\u001b[0;32m     15\u001b[0m         \u001b[0mv\u001b[0m \u001b[1;33m=\u001b[0m \u001b[1;33m-\u001b[0m \u001b[0mdx\u001b[0m \u001b[1;33m*\u001b[0m \u001b[0mlr\u001b[0m\u001b[1;33m\u001b[0m\u001b[1;33m\u001b[0m\u001b[0m\n",
      "\u001b[1;31mNameError\u001b[0m: name 'df' is not defined"
     ]
    }
   ],
   "source": [
    "# Main\n",
    "# 起始權重\n",
    "x_start = 5    \n",
    "# 執行週期數\n",
    "epochs = 15 \n",
    "# 學習率   \n",
    "lr = 0.3   \n",
    "# 梯度下降法 \n",
    "x = GD(x_start, epochs, lr=lr) \n",
    "print (x)\n",
    "# 輸出：[-5.     -2.     -0.8    -0.32   -0.128  -0.0512]"
   ]
  },
  {
   "cell_type": "code",
   "execution_count": 11,
   "id": "e433c971",
   "metadata": {},
   "outputs": [
    {
     "ename": "NameError",
     "evalue": "name 'x' is not defined",
     "output_type": "error",
     "traceback": [
      "\u001b[1;31m---------------------------------------------------------------------------\u001b[0m",
      "\u001b[1;31mNameError\u001b[0m                                 Traceback (most recent call last)",
      "\u001b[1;32m<ipython-input-11-4ec0b1e3ad81>\u001b[0m in \u001b[0;36m<module>\u001b[1;34m\u001b[0m\n\u001b[0;32m      4\u001b[0m \u001b[0mt\u001b[0m \u001b[1;33m=\u001b[0m \u001b[0marange\u001b[0m\u001b[1;33m(\u001b[0m\u001b[1;33m-\u001b[0m\u001b[1;36m6.0\u001b[0m\u001b[1;33m,\u001b[0m \u001b[1;36m6.0\u001b[0m\u001b[1;33m,\u001b[0m \u001b[1;36m0.01\u001b[0m\u001b[1;33m)\u001b[0m\u001b[1;33m\u001b[0m\u001b[1;33m\u001b[0m\u001b[0m\n\u001b[0;32m      5\u001b[0m \u001b[0mplt\u001b[0m\u001b[1;33m.\u001b[0m\u001b[0mplot\u001b[0m\u001b[1;33m(\u001b[0m\u001b[0mt\u001b[0m\u001b[1;33m,\u001b[0m \u001b[0mfunc\u001b[0m\u001b[1;33m(\u001b[0m\u001b[0mt\u001b[0m\u001b[1;33m)\u001b[0m\u001b[1;33m,\u001b[0m \u001b[0mc\u001b[0m\u001b[1;33m=\u001b[0m\u001b[1;34m'b'\u001b[0m\u001b[1;33m)\u001b[0m\u001b[1;33m\u001b[0m\u001b[1;33m\u001b[0m\u001b[0m\n\u001b[1;32m----> 6\u001b[1;33m \u001b[0mplt\u001b[0m\u001b[1;33m.\u001b[0m\u001b[0mplot\u001b[0m\u001b[1;33m(\u001b[0m\u001b[0mx\u001b[0m\u001b[1;33m,\u001b[0m \u001b[0mfunc\u001b[0m\u001b[1;33m(\u001b[0m\u001b[0mx\u001b[0m\u001b[1;33m)\u001b[0m\u001b[1;33m,\u001b[0m \u001b[0mc\u001b[0m\u001b[1;33m=\u001b[0m\u001b[0mcolor\u001b[0m\u001b[1;33m,\u001b[0m \u001b[0mlabel\u001b[0m\u001b[1;33m=\u001b[0m\u001b[1;34m'lr={}'\u001b[0m\u001b[1;33m.\u001b[0m\u001b[0mformat\u001b[0m\u001b[1;33m(\u001b[0m\u001b[0mlr\u001b[0m\u001b[1;33m)\u001b[0m\u001b[1;33m)\u001b[0m\u001b[1;33m\u001b[0m\u001b[1;33m\u001b[0m\u001b[0m\n\u001b[0m\u001b[0;32m      7\u001b[0m \u001b[0mplt\u001b[0m\u001b[1;33m.\u001b[0m\u001b[0mscatter\u001b[0m\u001b[1;33m(\u001b[0m\u001b[0mx\u001b[0m\u001b[1;33m,\u001b[0m \u001b[0mfunc\u001b[0m\u001b[1;33m(\u001b[0m\u001b[0mx\u001b[0m\u001b[1;33m)\u001b[0m\u001b[1;33m,\u001b[0m \u001b[0mc\u001b[0m\u001b[1;33m=\u001b[0m\u001b[0mcolor\u001b[0m\u001b[1;33m,\u001b[0m \u001b[1;33m)\u001b[0m\u001b[1;33m\u001b[0m\u001b[1;33m\u001b[0m\u001b[0m\n\u001b[0;32m      8\u001b[0m \u001b[0mplt\u001b[0m\u001b[1;33m.\u001b[0m\u001b[0mlegend\u001b[0m\u001b[1;33m(\u001b[0m\u001b[1;33m)\u001b[0m\u001b[1;33m\u001b[0m\u001b[1;33m\u001b[0m\u001b[0m\n",
      "\u001b[1;31mNameError\u001b[0m: name 'x' is not defined"
     ]
    },
    {
     "data": {
      "image/png": "[encoded data removed]",
      "text/plain": [
       "<Figure size 432x288 with 1 Axes>"
      ]
     },
     "metadata": {
      "needs_background": "light"
     },
     "output_type": "display_data"
    }
   ],
   "source": [
    "color = 'r'    \n",
    "#plt.plot(line_x, line_y, c='b')    \n",
    "from numpy import arange\n",
    "t = arange(-6.0, 6.0, 0.01)\n",
    "plt.plot(t, func(t), c='b')\n",
    "plt.plot(x, func(x), c=color, label='lr={}'.format(lr))    \n",
    "plt.scatter(x, func(x), c=color, )    \n",
    "plt.legend()\n",
    "\n",
    "plt.show()"
   ]
  },
  {
   "cell_type": "code",
   "execution_count": 10,
   "id": "47773ebe",
   "metadata": {},
   "outputs": [
    {
     "data": {
      "text/plain": [
       "-0.33331536708100373"
      ]
     },
     "execution_count": 10,
     "metadata": {},
     "output_type": "execute_result"
    }
   ],
   "source": []
  },
  {
   "cell_type": "code",
   "execution_count": null,
   "id": "13ecda0d",
   "metadata": {},
   "outputs": [],
   "source": []
  }
 ],
 "metadata": {
  "kernelspec": {
   "display_name": "Python 3",
   "language": "python",
   "name": "python3"
  },
  "language_info": {
   "codemirror_mode": {
    "name": "ipython",
    "version": 3
   },
   "file_extension": ".py",
   "mimetype": "text/x-python",
   "name": "python",
   "nbconvert_exporter": "python",
   "pygments_lexer": "ipython3",
   "version": "3.8.8"
  }
 },
 "nbformat": 4,
 "nbformat_minor": 5
}
