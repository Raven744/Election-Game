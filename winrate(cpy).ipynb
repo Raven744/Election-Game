{
 "cells": [
  {
   "cell_type": "code",
   "execution_count": 1,
   "id": "c6d61049",
   "metadata": {},
   "outputs": [
    {
     "name": "stdout",
     "output_type": "stream",
     "text": [
      "   party     A     B\n",
      "0    1.0  0.34  0.33\n",
      "1    2.0  0.38  0.06\n",
      "   Strategy A  Strategy B\n",
      "0   -0.484345    0.139239\n",
      "1    0.611996   -0.367883\n",
      "2   -0.501094   -0.469772\n",
      "3    0.018736   -0.834730\n",
      "4    0.945551   -0.956237\n",
      "5    0.990037    0.223367\n",
      "6   -0.134956    0.259713\n",
      "7   -0.994777   -0.013678\n",
      "8    0.475309   -0.650872\n",
      "9   -0.221555    0.676952\n"
     ]
    },
    {
     "data": {
      "text/html": [
       "<div>\n",
       "<style scoped>\n",
       "    .dataframe tbody tr th:only-of-type {\n",
       "        vertical-align: middle;\n",
       "    }\n",
       "\n",
       "    .dataframe tbody tr th {\n",
       "        vertical-align: top;\n",
       "    }\n",
       "\n",
       "    .dataframe thead th {\n",
       "        text-align: right;\n",
       "    }\n",
       "</style>\n",
       "<table border=\"1\" class=\"dataframe\">\n",
       "  <thead>\n",
       "    <tr style=\"text-align: right;\">\n",
       "      <th></th>\n",
       "      <th>Strategy A</th>\n",
       "      <th>Strategy B</th>\n",
       "    </tr>\n",
       "  </thead>\n",
       "  <tbody>\n",
       "    <tr>\n",
       "      <th>0</th>\n",
       "      <td>-0.570796</td>\n",
       "      <td>0.994946</td>\n",
       "    </tr>\n",
       "    <tr>\n",
       "      <th>1</th>\n",
       "      <td>0.982965</td>\n",
       "      <td>0.810510</td>\n",
       "    </tr>\n",
       "    <tr>\n",
       "      <th>2</th>\n",
       "      <td>0.037603</td>\n",
       "      <td>0.025811</td>\n",
       "    </tr>\n",
       "    <tr>\n",
       "      <th>3</th>\n",
       "      <td>-0.907685</td>\n",
       "      <td>0.493337</td>\n",
       "    </tr>\n",
       "    <tr>\n",
       "      <th>4</th>\n",
       "      <td>0.729768</td>\n",
       "      <td>-0.466732</td>\n",
       "    </tr>\n",
       "    <tr>\n",
       "      <th>5</th>\n",
       "      <td>0.906707</td>\n",
       "      <td>0.957192</td>\n",
       "    </tr>\n",
       "    <tr>\n",
       "      <th>6</th>\n",
       "      <td>-0.246578</td>\n",
       "      <td>0.487487</td>\n",
       "    </tr>\n",
       "    <tr>\n",
       "      <th>7</th>\n",
       "      <td>-0.432575</td>\n",
       "      <td>0.084391</td>\n",
       "    </tr>\n",
       "    <tr>\n",
       "      <th>8</th>\n",
       "      <td>-0.153370</td>\n",
       "      <td>-0.482514</td>\n",
       "    </tr>\n",
       "    <tr>\n",
       "      <th>9</th>\n",
       "      <td>-0.294094</td>\n",
       "      <td>0.412653</td>\n",
       "    </tr>\n",
       "  </tbody>\n",
       "</table>\n",
       "</div>"
      ],
      "text/plain": [
       "   Strategy A  Strategy B\n",
       "0   -0.570796    0.994946\n",
       "1    0.982965    0.810510\n",
       "2    0.037603    0.025811\n",
       "3   -0.907685    0.493337\n",
       "4    0.729768   -0.466732\n",
       "5    0.906707    0.957192\n",
       "6   -0.246578    0.487487\n",
       "7   -0.432575    0.084391\n",
       "8   -0.153370   -0.482514\n",
       "9   -0.294094    0.412653"
      ]
     },
     "execution_count": 1,
     "metadata": {},
     "output_type": "execute_result"
    }
   ],
   "source": [
    "import pandas as pd\n",
    "party=pd.read_csv(\"party.csv\")\n",
    "voterA=pd.read_csv(\"voterA.csv\")\n",
    "voterB=pd.read_csv(\"voterB.csv\")\n",
    "print(party)\n",
    "print(voterA)\n",
    "voterB"
   ]
  },
  {
   "cell_type": "code",
   "execution_count": 2,
   "id": "14d76de4",
   "metadata": {},
   "outputs": [],
   "source": [
    "import numpy as np\n",
    "va=np.array(voterA)\n",
    "pa=np.array(party)\n",
    "pr=pa.shape[0]+1\n",
    "pc=pa.shape[1]"
   ]
  },
  {
   "cell_type": "code",
   "execution_count": 3,
   "id": "d9e20203",
   "metadata": {},
   "outputs": [
    {
     "data": {
      "text/plain": [
       "0.34"
      ]
     },
     "execution_count": 3,
     "metadata": {},
     "output_type": "execute_result"
    }
   ],
   "source": [
    "pa[0,1]"
   ]
  },
  {
   "cell_type": "code",
   "execution_count": 4,
   "id": "eaa6401f",
   "metadata": {},
   "outputs": [
    {
     "name": "stdout",
     "output_type": "stream",
     "text": [
      "0   1\n",
      "0.34 = 0.7049009028680265 * 0.34\n",
      "0   2\n",
      "0.33 = 0.7049009028680265 * 0.33\n",
      "1   1\n",
      "0.38 = -1.993901353830677 * 0.38\n",
      "1   2\n",
      "0.06 = -1.993901353830677 * 0.06\n"
     ]
    }
   ],
   "source": [
    "for row in range(pr-1):\n",
    "    for col in range(1,pc):\n",
    "        print(row,\" \",col)\n",
    "        print(pa[row,col],\"=\",np.sum(va[:,row]),\"*\",pa[row,col])\n",
    "        pa[row,col]=np.sum(va[:,row])*pa[row,col]#將A1 str整行相加 對政黨政策的內積\n",
    "        #print(pa[row,col],\"=\",np.sum(va[:,row]),\"*\",pa[row,col])"
   ]
  },
  {
   "cell_type": "code",
   "execution_count": 5,
   "id": "0eb72b1d",
   "metadata": {},
   "outputs": [
    {
     "data": {
      "text/plain": [
       "array([[ 1.        ,  0.23966631,  0.2326173 ],\n",
       "       [ 2.        , -0.75768251, -0.11963408]])"
      ]
     },
     "execution_count": 5,
     "metadata": {},
     "output_type": "execute_result"
    }
   ],
   "source": [
    "pa"
   ]
  },
  {
   "cell_type": "code",
   "execution_count": 6,
   "id": "537be23a",
   "metadata": {
    "scrolled": true
   },
   "outputs": [
    {
     "name": "stdout",
     "output_type": "stream",
     "text": [
      "-0.5180162074805282\n"
     ]
    },
    {
     "data": {
      "text/plain": [
       "0.11298321671660817"
      ]
     },
     "execution_count": 6,
     "metadata": {},
     "output_type": "execute_result"
    }
   ],
   "source": [
    "Uaza=pa[0,1]+pa[1,1]\n",
    "print(Uaza)\n",
    "Uazb=pa[0,2]+pa[1,2]\n",
    "Uazb\n"
   ]
  },
  {
   "cell_type": "code",
   "execution_count": 7,
   "id": "fffbe9ef",
   "metadata": {},
   "outputs": [
    {
     "name": "stdout",
     "output_type": "stream",
     "text": [
      "0   1\n",
      "0.34 = 0.05194512802159562 * 0.34\n",
      "0   2\n",
      "0.33 = 0.05194512802159562 * 0.33\n",
      "1   1\n",
      "0.38 = 3.3170813473136596 * 0.38\n",
      "1   2\n",
      "0.06 = 3.3170813473136596 * 0.06\n"
     ]
    }
   ],
   "source": [
    "vb=np.array(voterB)\n",
    "#np.sum(vb[:,1])\n",
    "pb=np.array(party)\n",
    "for row in range(pr-1):\n",
    "    for col in range(1,pc):\n",
    "        print(row,\" \",col)\n",
    "        print(pb[row,col],\"=\",np.sum(vb[:,row]),\"*\",pb[row,col])\n",
    "        pb[row,col]=np.sum(vb[:,row])*pb[row,col]\n",
    "        "
   ]
  },
  {
   "cell_type": "code",
   "execution_count": 8,
   "id": "604f48ea",
   "metadata": {},
   "outputs": [
    {
     "data": {
      "text/plain": [
       "array([[1.        , 0.01766134, 0.01714189],\n",
       "       [2.        , 1.26049091, 0.19902488]])"
      ]
     },
     "execution_count": 8,
     "metadata": {},
     "output_type": "execute_result"
    }
   ],
   "source": [
    "pb"
   ]
  },
  {
   "cell_type": "code",
   "execution_count": 9,
   "id": "090115c0",
   "metadata": {},
   "outputs": [
    {
     "name": "stdout",
     "output_type": "stream",
     "text": [
      "1.2781522555065332\n"
     ]
    },
    {
     "data": {
      "text/plain": [
       "0.21616677308594612"
      ]
     },
     "execution_count": 9,
     "metadata": {},
     "output_type": "execute_result"
    }
   ],
   "source": [
    "Ubza=pb[0,1]+pb[1,1]\n",
    "print(Ubza)\n",
    "Ubzb=pb[0,2]+pb[1,2]\n",
    "Ubzb"
   ]
  },
  {
   "cell_type": "code",
   "execution_count": 10,
   "id": "4751de71",
   "metadata": {},
   "outputs": [
    {
     "name": "stdout",
     "output_type": "stream",
     "text": [
      "0.760136048026005\n"
     ]
    },
    {
     "data": {
      "text/plain": [
       "0.3291499898025543"
      ]
     },
     "execution_count": 10,
     "metadata": {},
     "output_type": "execute_result"
    }
   ],
   "source": [
    "Uza=Uaza+Ubza \n",
    "Uzb=Ubzb+Uazb \n",
    "print(Uza)\n",
    "Uzb"
   ]
  },
  {
   "cell_type": "code",
   "execution_count": 11,
   "id": "cd2d089e",
   "metadata": {},
   "outputs": [
    {
     "name": "stdout",
     "output_type": "stream",
     "text": [
      "2\n"
     ]
    },
    {
     "data": {
      "text/plain": [
       "10"
      ]
     },
     "execution_count": 11,
     "metadata": {},
     "output_type": "execute_result"
    }
   ],
   "source": [
    "va_shape=np.array(va.shape)\n",
    "numA=va_shape[0]\n",
    "dem=int(va_shape[1])\n",
    "print(dem)\n",
    "numA"
   ]
  },
  {
   "cell_type": "code",
   "execution_count": 12,
   "id": "f34e1830",
   "metadata": {},
   "outputs": [
    {
     "data": {
      "text/plain": [
       "10"
      ]
     },
     "execution_count": 12,
     "metadata": {},
     "output_type": "execute_result"
    }
   ],
   "source": [
    "vb_shape=np.array(vb.shape)\n",
    "numB=vb_shape[0]\n",
    "dem=int(vb_shape[1])\n",
    "numB"
   ]
  },
  {
   "cell_type": "code",
   "execution_count": 13,
   "id": "be565b73",
   "metadata": {},
   "outputs": [
    {
     "name": "stdout",
     "output_type": "stream",
     "text": [
      "0.5107746514555863\n",
      "-0.5180162074805282\n",
      "1.2781522555065332\n",
      "0.11298321671660817\n",
      "0.21616677308594612\n"
     ]
    }
   ],
   "source": [
    "PAWB=1/2+(Uza-Uzb)/(2*(numA+numB))\n",
    "print(PAWB)\n",
    "print(Uaza)\n",
    "print(Ubza)\n",
    "print(Uazb)\n",
    "print(Ubzb)"
   ]
  },
  {
   "cell_type": "code",
   "execution_count": 14,
   "id": "368ff156",
   "metadata": {},
   "outputs": [
    {
     "name": "stdout",
     "output_type": "stream",
     "text": [
      "-0.20931529424635986\n"
     ]
    },
    {
     "data": {
      "text/plain": [
       "0.7586020377202142"
      ]
     },
     "execution_count": 14,
     "metadata": {},
     "output_type": "execute_result"
    }
   ],
   "source": [
    "rAz=PAWB*Uaza+(1-PAWB)*Uazb\n",
    "rBz=PAWB*Ubza+(1-PAWB)*Ubzb\n",
    "print(rAz)\n",
    "rBz"
   ]
  },
  {
   "cell_type": "code",
   "execution_count": 15,
   "id": "a2974e28",
   "metadata": {},
   "outputs": [
    {
     "data": {
      "text/plain": [
       "0.04224680245729451"
      ]
     },
     "execution_count": 15,
     "metadata": {},
     "output_type": "execute_result"
    }
   ],
   "source": [
    "Gza=1/2*(numA/(numA+numB))+(numA/(2*(numA+numB)))*(Uza-Uzb)+1/2*(Uaza-Uazb)\n",
    "Gza"
   ]
  },
  {
   "cell_type": "code",
   "execution_count": null,
   "id": "6ccf6eee",
   "metadata": {},
   "outputs": [],
   "source": []
  }
 ],
 "metadata": {
  "kernelspec": {
   "display_name": "Python 3",
   "language": "python",
   "name": "python3"
  },
  "language_info": {
   "codemirror_mode": {
    "name": "ipython",
    "version": 3
   },
   "file_extension": ".py",
   "mimetype": "text/x-python",
   "name": "python",
   "nbconvert_exporter": "python",
   "pygments_lexer": "ipython3",
   "version": "3.8.8"
  }
 },
 "nbformat": 4,
 "nbformat_minor": 5
}
