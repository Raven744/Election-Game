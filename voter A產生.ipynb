{
 "cells": [
  {
   "cell_type": "code",
   "execution_count": 1,
   "id": "fc50056c",
   "metadata": {},
   "outputs": [],
   "source": [
    "import pandas as pd\n",
    "import random\n",
    "import numpy as np"
   ]
  },
  {
   "cell_type": "code",
   "execution_count": 2,
   "id": "a96e46e7",
   "metadata": {},
   "outputs": [
    {
     "data": {
      "text/html": [
       "<div>\n",
       "<style scoped>\n",
       "    .dataframe tbody tr th:only-of-type {\n",
       "        vertical-align: middle;\n",
       "    }\n",
       "\n",
       "    .dataframe tbody tr th {\n",
       "        vertical-align: top;\n",
       "    }\n",
       "\n",
       "    .dataframe thead th {\n",
       "        text-align: right;\n",
       "    }\n",
       "</style>\n",
       "<table border=\"1\" class=\"dataframe\">\n",
       "  <thead>\n",
       "    <tr style=\"text-align: right;\">\n",
       "      <th></th>\n",
       "      <th>Strategy A</th>\n",
       "      <th>Strategy B</th>\n",
       "    </tr>\n",
       "  </thead>\n",
       "  <tbody>\n",
       "    <tr>\n",
       "      <th>1</th>\n",
       "      <td>NaN</td>\n",
       "      <td>NaN</td>\n",
       "    </tr>\n",
       "    <tr>\n",
       "      <th>2</th>\n",
       "      <td>NaN</td>\n",
       "      <td>NaN</td>\n",
       "    </tr>\n",
       "    <tr>\n",
       "      <th>3</th>\n",
       "      <td>NaN</td>\n",
       "      <td>NaN</td>\n",
       "    </tr>\n",
       "    <tr>\n",
       "      <th>4</th>\n",
       "      <td>NaN</td>\n",
       "      <td>NaN</td>\n",
       "    </tr>\n",
       "    <tr>\n",
       "      <th>5</th>\n",
       "      <td>NaN</td>\n",
       "      <td>NaN</td>\n",
       "    </tr>\n",
       "    <tr>\n",
       "      <th>6</th>\n",
       "      <td>NaN</td>\n",
       "      <td>NaN</td>\n",
       "    </tr>\n",
       "    <tr>\n",
       "      <th>7</th>\n",
       "      <td>NaN</td>\n",
       "      <td>NaN</td>\n",
       "    </tr>\n",
       "    <tr>\n",
       "      <th>8</th>\n",
       "      <td>NaN</td>\n",
       "      <td>NaN</td>\n",
       "    </tr>\n",
       "    <tr>\n",
       "      <th>9</th>\n",
       "      <td>NaN</td>\n",
       "      <td>NaN</td>\n",
       "    </tr>\n",
       "    <tr>\n",
       "      <th>10</th>\n",
       "      <td>NaN</td>\n",
       "      <td>NaN</td>\n",
       "    </tr>\n",
       "  </tbody>\n",
       "</table>\n",
       "</div>"
      ],
      "text/plain": [
       "   Strategy A Strategy B\n",
       "1         NaN        NaN\n",
       "2         NaN        NaN\n",
       "3         NaN        NaN\n",
       "4         NaN        NaN\n",
       "5         NaN        NaN\n",
       "6         NaN        NaN\n",
       "7         NaN        NaN\n",
       "8         NaN        NaN\n",
       "9         NaN        NaN\n",
       "10        NaN        NaN"
      ]
     },
     "execution_count": 2,
     "metadata": {},
     "output_type": "execute_result"
    }
   ],
   "source": [
    "#num=random.randrange(0, 101, 2)    隨機人數\n",
    "num=10\n",
    "peoples = list(range(1,num+1))\n",
    "dem=2\n",
    "L=list(range(65,dem+65))\n",
    "Strategy=list(\"\".join(chr(i) for i in L))\n",
    "for i in range(dem):\n",
    "    Strategy[i]=\"Strategy \"+Strategy[i]\n",
    "data=pd.DataFrame(columns=Strategy,index=peoples)\n",
    "data"
   ]
  },
  {
   "cell_type": "code",
   "execution_count": 3,
   "id": "b0a77c9c",
   "metadata": {},
   "outputs": [],
   "source": [
    "dataArray=np.array(data)"
   ]
  },
  {
   "cell_type": "code",
   "execution_count": 4,
   "id": "965b7df4",
   "metadata": {},
   "outputs": [
    {
     "data": {
      "text/plain": [
       "array([[-0.5707956503717857, 0.9949461711089678],\n",
       "       [0.9829649293564169, 0.8105096538637238],\n",
       "       [0.037602908197632345, 0.02581119203678406],\n",
       "       [-0.907684824755133, 0.4933374377609743],\n",
       "       [0.7297681887979655, -0.4667316572238762],\n",
       "       [0.9067066863614759, 0.9571923307246841],\n",
       "       [-0.24657789964077637, 0.48748700340965256],\n",
       "       [-0.4325752424425291, 0.08439075171442312],\n",
       "       [-0.15337006778256757, -0.4825144935734651],\n",
       "       [-0.2940938996991034, 0.41265295749179143]], dtype=object)"
      ]
     },
     "execution_count": 4,
     "metadata": {},
     "output_type": "execute_result"
    }
   ],
   "source": [
    "import random\n",
    "for i in range(dem):\n",
    "    random.seed()\n",
    "    rad=np.array([random.uniform(-1.0,1.0)for g in range(num)])\n",
    "    dataArray[:,i]=rad\n",
    "dataArray"
   ]
  },
  {
   "cell_type": "code",
   "execution_count": 5,
   "id": "986ed0ee",
   "metadata": {},
   "outputs": [
    {
     "data": {
      "text/html": [
       "<div>\n",
       "<style scoped>\n",
       "    .dataframe tbody tr th:only-of-type {\n",
       "        vertical-align: middle;\n",
       "    }\n",
       "\n",
       "    .dataframe tbody tr th {\n",
       "        vertical-align: top;\n",
       "    }\n",
       "\n",
       "    .dataframe thead th {\n",
       "        text-align: right;\n",
       "    }\n",
       "</style>\n",
       "<table border=\"1\" class=\"dataframe\">\n",
       "  <thead>\n",
       "    <tr style=\"text-align: right;\">\n",
       "      <th></th>\n",
       "      <th>Strategy A</th>\n",
       "      <th>Strategy B</th>\n",
       "    </tr>\n",
       "  </thead>\n",
       "  <tbody>\n",
       "    <tr>\n",
       "      <th>1</th>\n",
       "      <td>-0.570796</td>\n",
       "      <td>0.994946</td>\n",
       "    </tr>\n",
       "    <tr>\n",
       "      <th>2</th>\n",
       "      <td>0.982965</td>\n",
       "      <td>0.81051</td>\n",
       "    </tr>\n",
       "    <tr>\n",
       "      <th>3</th>\n",
       "      <td>0.037603</td>\n",
       "      <td>0.025811</td>\n",
       "    </tr>\n",
       "    <tr>\n",
       "      <th>4</th>\n",
       "      <td>-0.907685</td>\n",
       "      <td>0.493337</td>\n",
       "    </tr>\n",
       "    <tr>\n",
       "      <th>5</th>\n",
       "      <td>0.729768</td>\n",
       "      <td>-0.466732</td>\n",
       "    </tr>\n",
       "    <tr>\n",
       "      <th>6</th>\n",
       "      <td>0.906707</td>\n",
       "      <td>0.957192</td>\n",
       "    </tr>\n",
       "    <tr>\n",
       "      <th>7</th>\n",
       "      <td>-0.246578</td>\n",
       "      <td>0.487487</td>\n",
       "    </tr>\n",
       "    <tr>\n",
       "      <th>8</th>\n",
       "      <td>-0.432575</td>\n",
       "      <td>0.084391</td>\n",
       "    </tr>\n",
       "    <tr>\n",
       "      <th>9</th>\n",
       "      <td>-0.15337</td>\n",
       "      <td>-0.482514</td>\n",
       "    </tr>\n",
       "    <tr>\n",
       "      <th>10</th>\n",
       "      <td>-0.294094</td>\n",
       "      <td>0.412653</td>\n",
       "    </tr>\n",
       "  </tbody>\n",
       "</table>\n",
       "</div>"
      ],
      "text/plain": [
       "   Strategy A Strategy B\n",
       "1   -0.570796   0.994946\n",
       "2    0.982965    0.81051\n",
       "3    0.037603   0.025811\n",
       "4   -0.907685   0.493337\n",
       "5    0.729768  -0.466732\n",
       "6    0.906707   0.957192\n",
       "7   -0.246578   0.487487\n",
       "8   -0.432575   0.084391\n",
       "9    -0.15337  -0.482514\n",
       "10  -0.294094   0.412653"
      ]
     },
     "execution_count": 5,
     "metadata": {},
     "output_type": "execute_result"
    }
   ],
   "source": [
    "voterA=pd.DataFrame(dataArray,columns=Strategy,index=peoples)\n",
    "voterA.to_csv('voterA.csv',index = 0)\n",
    "voterA"
   ]
  },
  {
   "cell_type": "code",
   "execution_count": null,
   "id": "c7b892a0",
   "metadata": {},
   "outputs": [],
   "source": []
  }
 ],
 "metadata": {
  "kernelspec": {
   "display_name": "Python 3",
   "language": "python",
   "name": "python3"
  },
  "language_info": {
   "codemirror_mode": {
    "name": "ipython",
    "version": 3
   },
   "file_extension": ".py",
   "mimetype": "text/x-python",
   "name": "python",
   "nbconvert_exporter": "python",
   "pygments_lexer": "ipython3",
   "version": "3.8.8"
  }
 },
 "nbformat": 4,
 "nbformat_minor": 5
}
